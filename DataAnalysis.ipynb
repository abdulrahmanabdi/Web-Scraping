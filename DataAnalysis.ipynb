{
 "cells": [
  {
   "attachments": {},
   "cell_type": "markdown",
   "metadata": {},
   "source": [
    "# Analyzing the scraped data\n",
    "\"Sanity Checks\"\n",
    " I plotted some graphs to explore the data collected and find the problems in it, if any."
   ]
  },
  {
   "cell_type": "code",
   "execution_count": 1,
   "metadata": {},
   "outputs": [],
   "source": [
    "import numpy as np\n",
    "import pandas as pd\n",
    "import matplotlib.pyplot as plt"
   ]
  },
  {
   "attachments": {},
   "cell_type": "markdown",
   "metadata": {},
   "source": [
    "## 1. Exploring the downloaded HTML files"
   ]
  },
  {
   "attachments": {},
   "cell_type": "markdown",
   "metadata": {},
   "source": [
    "Distribution of file sizes of the HTML pages downloaded\n"
   ]
  },
  {
   "cell_type": "code",
   "execution_count": null,
   "metadata": {},
   "outputs": [],
   "source": [
    "# Plot the distribution of the downloaded HTML file sizes\n",
    "# WRITE YOUR CODE HERE\n",
    "\n",
    "\n",
    "# Save the final plot in figures/file_sizes.png using the code below\n",
    "plt.savefig('figures/html_file_size.png')"
   ]
  },
  {
   "attachments": {},
   "cell_type": "markdown",
   "metadata": {},
   "source": [
    "\n",
    "Since the HTML file size is significantly affected by the images it contains, another way to explore the downloaded HTML files is by looking at the number of lines in each file. I plotted a distribution of the number of lines in the downloaded HTML files."
   ]
  },
  {
   "cell_type": "code",
   "execution_count": null,
   "metadata": {},
   "outputs": [],
   "source": [
    "# Plot the distribution of line counts in the downloaded HTML files\n",
    "# WRITE YOUR CODE HERE\n",
    "\n",
    "\n",
    "# Save the final plot in figures/html_line_count.png using the code below\n",
    "plt.savefig('figures/html_line_count.png')"
   ]
  },
  {
   "attachments": {},
   "cell_type": "markdown",
   "metadata": {},
   "source": [
    "## 2. Exploring the processed data"
   ]
  },
  {
   "attachments": {},
   "cell_type": "markdown",
   "metadata": {},
   "source": [
    "\n",
    "The first thing to check is if we have extracted information from all of the collected links or not. I compared the number of links that you have collected (in link_list.txt) to the number of parsed data dictionaries (in parsed_data.jsons) that you have created by parsing the downloaded HTML files."
   ]
  },
  {
   "cell_type": "code",
   "execution_count": null,
   "metadata": {},
   "outputs": [],
   "source": [
    "# Compute the number of links in link_list.txt\n",
    "# WRITE YOUR CODE HERE\n",
    "n_collected_links = 0\n",
    "\n",
    "# Compute the number of the parsed data dictionaries in parsed_data.jsons\n",
    "# WRITE YOUR CODE HERE\n",
    "n_parsed_links = 0\n",
    "\n",
    "\n",
    "print(f\"Number of collected links: {n_collected_links}\")\n",
    "print(f\"Number of parsed links: {n_parsed_links}\")"
   ]
  },
  {
   "attachments": {},
   "cell_type": "markdown",
   "metadata": {},
   "source": [
    "\n",
    "I plotted the distribution of line counts in the text content that you extracted from the HTML web pages. This will help point out some errors in content extraction, if any."
   ]
  },
  {
   "cell_type": "code",
   "execution_count": null,
   "metadata": {},
   "outputs": [],
   "source": [
    "# Plot the distribution of line counts in the extracted text content\n",
    "# WRITE YOUR CODE HERE\n",
    "\n",
    "\n",
    "# Save the final plot in figures/content_line_count.png using the code below\n",
    "plt.savefig('figures/content_line_count.png')"
   ]
  },
  {
   "attachments": {},
   "cell_type": "markdown",
   "metadata": {},
   "source": [
    "\n",
    "I plotted the distribution of the dates of the collected news articles."
   ]
  },
  {
   "cell_type": "code",
   "execution_count": null,
   "metadata": {},
   "outputs": [],
   "source": [
    "# Plot the distribution of dates from the extracted date information\n",
    "# WRITE YOUR CODE HERE\n",
    "\n",
    "\n",
    "# Save the final plot in figures/date_dist.png using the code below\n",
    "plt.savefig('figures/date_dist.png')"
   ]
  }
 ],
 "metadata": {
  "kernelspec": {
   "display_name": "selenium_env",
   "language": "python",
   "name": "python3"
  },
  "language_info": {
   "codemirror_mode": {
    "name": "ipython",
    "version": 3
   },
   "file_extension": ".py",
   "mimetype": "text/x-python",
   "name": "python",
   "nbconvert_exporter": "python",
   "pygments_lexer": "ipython3",
   "version": "3.10.9"
  },
  "orig_nbformat": 4
 },
 "nbformat": 4,
 "nbformat_minor": 2
}
